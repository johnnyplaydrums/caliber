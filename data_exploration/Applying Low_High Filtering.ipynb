{
 "cells": [
  {
   "cell_type": "code",
   "execution_count": 1,
   "metadata": {
    "collapsed": true
   },
   "outputs": [],
   "source": [
    "import pandas as pd\n",
    "import matplotlib.pyplot as plt\n",
    "%matplotlib inline\n",
    "import numpy as np\n",
    "from scipy.signal import butter, lfilter, freqz"
   ]
  },
  {
   "cell_type": "code",
   "execution_count": 5,
   "metadata": {
    "collapsed": false
   },
   "outputs": [
    {
     "data": {
      "text/html": [
       "<div>\n",
       "<table border=\"1\" class=\"dataframe\">\n",
       "  <thead>\n",
       "    <tr style=\"text-align: right;\">\n",
       "      <th></th>\n",
       "      <th>time</th>\n",
       "      <th>X_value</th>\n",
       "      <th>Y_value</th>\n",
       "      <th>Z_value</th>\n",
       "    </tr>\n",
       "  </thead>\n",
       "  <tbody>\n",
       "    <tr>\n",
       "      <th>0</th>\n",
       "      <td>0.000</td>\n",
       "      <td>0.00000</td>\n",
       "      <td>0.00000</td>\n",
       "      <td>0.00000</td>\n",
       "    </tr>\n",
       "    <tr>\n",
       "      <th>1</th>\n",
       "      <td>0.001</td>\n",
       "      <td>-0.00131</td>\n",
       "      <td>-0.28813</td>\n",
       "      <td>0.03593</td>\n",
       "    </tr>\n",
       "    <tr>\n",
       "      <th>2</th>\n",
       "      <td>0.046</td>\n",
       "      <td>0.05121</td>\n",
       "      <td>0.17612</td>\n",
       "      <td>0.10190</td>\n",
       "    </tr>\n",
       "    <tr>\n",
       "      <th>3</th>\n",
       "      <td>0.102</td>\n",
       "      <td>0.00601</td>\n",
       "      <td>-0.04134</td>\n",
       "      <td>0.04938</td>\n",
       "    </tr>\n",
       "    <tr>\n",
       "      <th>4</th>\n",
       "      <td>0.162</td>\n",
       "      <td>0.01089</td>\n",
       "      <td>-0.01692</td>\n",
       "      <td>0.01395</td>\n",
       "    </tr>\n",
       "  </tbody>\n",
       "</table>\n",
       "</div>"
      ],
      "text/plain": [
       "    time  X_value  Y_value  Z_value\n",
       "0  0.000  0.00000  0.00000  0.00000\n",
       "1  0.001 -0.00131 -0.28813  0.03593\n",
       "2  0.046  0.05121  0.17612  0.10190\n",
       "3  0.102  0.00601 -0.04134  0.04938\n",
       "4  0.162  0.01089 -0.01692  0.01395"
      ]
     },
     "execution_count": 5,
     "metadata": {},
     "output_type": "execute_result"
    }
   ],
   "source": [
    "fil = pd.read_csv('hometoschool_gyr.csv')\n",
    "fil.head()"
   ]
  },
  {
   "cell_type": "code",
   "execution_count": 6,
   "metadata": {
    "collapsed": true
   },
   "outputs": [],
   "source": [
    "# We will add two more cols to represent when the device was moving(move) and normalization(norm)\n",
    "# Since our movement is from the start we will set it to 1 for true.\n",
    "fil['move'] = 1\n",
    "fil['norm'] = 0"
   ]
  },
  {
   "cell_type": "code",
   "execution_count": 10,
   "metadata": {
    "collapsed": false
   },
   "outputs": [],
   "source": [
    "# Renaming \n",
    "fil.columns = ['time', 'x', 'y', 'z','move','norm']"
   ]
  },
  {
   "cell_type": "code",
   "execution_count": 12,
   "metadata": {
    "collapsed": false
   },
   "outputs": [
    {
     "data": {
      "text/html": [
       "<div>\n",
       "<table border=\"1\" class=\"dataframe\">\n",
       "  <thead>\n",
       "    <tr style=\"text-align: right;\">\n",
       "      <th></th>\n",
       "      <th>time</th>\n",
       "      <th>x</th>\n",
       "      <th>y</th>\n",
       "      <th>z</th>\n",
       "      <th>move</th>\n",
       "      <th>norm</th>\n",
       "    </tr>\n",
       "  </thead>\n",
       "  <tbody>\n",
       "    <tr>\n",
       "      <th>0</th>\n",
       "      <td>0.000</td>\n",
       "      <td>0.00000</td>\n",
       "      <td>0.00000</td>\n",
       "      <td>0.00000</td>\n",
       "      <td>1</td>\n",
       "      <td>0.000000</td>\n",
       "    </tr>\n",
       "    <tr>\n",
       "      <th>1</th>\n",
       "      <td>0.001</td>\n",
       "      <td>-0.00131</td>\n",
       "      <td>-0.28813</td>\n",
       "      <td>0.03593</td>\n",
       "      <td>1</td>\n",
       "      <td>0.290365</td>\n",
       "    </tr>\n",
       "    <tr>\n",
       "      <th>2</th>\n",
       "      <td>0.046</td>\n",
       "      <td>0.05121</td>\n",
       "      <td>0.17612</td>\n",
       "      <td>0.10190</td>\n",
       "      <td>1</td>\n",
       "      <td>0.209820</td>\n",
       "    </tr>\n",
       "    <tr>\n",
       "      <th>3</th>\n",
       "      <td>0.102</td>\n",
       "      <td>0.00601</td>\n",
       "      <td>-0.04134</td>\n",
       "      <td>0.04938</td>\n",
       "      <td>1</td>\n",
       "      <td>0.064680</td>\n",
       "    </tr>\n",
       "    <tr>\n",
       "      <th>4</th>\n",
       "      <td>0.162</td>\n",
       "      <td>0.01089</td>\n",
       "      <td>-0.01692</td>\n",
       "      <td>0.01395</td>\n",
       "      <td>1</td>\n",
       "      <td>0.024484</td>\n",
       "    </tr>\n",
       "  </tbody>\n",
       "</table>\n",
       "</div>"
      ],
      "text/plain": [
       "    time        x        y        z  move      norm\n",
       "0  0.000  0.00000  0.00000  0.00000     1  0.000000\n",
       "1  0.001 -0.00131 -0.28813  0.03593     1  0.290365\n",
       "2  0.046  0.05121  0.17612  0.10190     1  0.209820\n",
       "3  0.102  0.00601 -0.04134  0.04938     1  0.064680\n",
       "4  0.162  0.01089 -0.01692  0.01395     1  0.024484"
      ]
     },
     "execution_count": 12,
     "metadata": {},
     "output_type": "execute_result"
    }
   ],
   "source": [
    "# This will normalize the data\n",
    "fil['norm'] = np.sqrt(fil['x']**2 + fil['y']**2 + fil['z']**2)\n",
    "fil.head()"
   ]
  },
  {
   "cell_type": "code",
   "execution_count": 14,
   "metadata": {
    "collapsed": false
   },
   "outputs": [
    {
     "data": {
      "text/plain": [
       "1    1.0\n",
       "Name: move, dtype: float64"
      ]
     },
     "execution_count": 14,
     "metadata": {},
     "output_type": "execute_result"
    }
   ],
   "source": [
    "# Make sure our device was in motion for the whole duration.\n",
    "fil['move'].value_counts()/float(len(data))"
   ]
  },
  {
   "cell_type": "code",
   "execution_count": 16,
   "metadata": {
    "collapsed": false
   },
   "outputs": [
    {
     "data": {
      "image/png": "[encoded data removed]",
      "text/plain": [
       "<matplotlib.figure.Figure at 0x274b2b72a90>"
      ]
     },
     "metadata": {},
     "output_type": "display_data"
    }
   ],
   "source": [
    "# This is to show the plotting of the normalization of the data on all three axis\n",
    "plt.plot(fil[fil['move'] == 1]['norm'], linewidth=.5)\n",
    "plt.xlim(0, len(fil))\n",
    "plt.ticklabel_format(style='sci', axis='x', scilimits=(0,0))"
   ]
  },
  {
   "cell_type": "code",
   "execution_count": null,
   "metadata": {
    "collapsed": true
   },
   "outputs": [],
   "source": []
  }
 ],
 "metadata": {
  "kernelspec": {
   "display_name": "Python 3",
   "language": "python",
   "name": "python3"
  },
  "language_info": {
   "codemirror_mode": {
    "name": "ipython",
    "version": 3
   },
   "file_extension": ".py",
   "mimetype": "text/x-python",
   "name": "python",
   "nbconvert_exporter": "python",
   "pygments_lexer": "ipython3",
   "version": "3.5.2"
  }
 },
 "nbformat": 4,
 "nbformat_minor": 1
}
